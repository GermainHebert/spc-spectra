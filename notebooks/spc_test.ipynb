{
 "cells": [
  {
   "cell_type": "code",
   "execution_count": 1,
   "metadata": {
    "collapsed": true
   },
   "outputs": [],
   "source": [
    "%matplotlib inline\n",
    "import numpy as np\n",
    "import matplotlib.pyplot as plt\n",
    "import sys\n",
    "import os\n",
    "sys.path.append('..')\n",
    "import spc"
   ]
  },
  {
   "cell_type": "code",
   "execution_count": 2,
   "metadata": {},
   "outputs": [
    {
     "name": "stdout",
     "output_type": "stream",
     "text": [
      "4d_map.spc\t\t\t KRY3.SPC     cts0416a.spc  s_evenx.spc\r\n",
      "BC408_5mmHorizontal.spc\t\t KRY4.SPC     kry2.spc\t    s_xy.spc\r\n",
      "CAthickyellow_try4_17_ZSCAN.spc  KRY5.SPC     m_evenz.spc   test_input.spc\r\n",
      "CAthickyellow_try4_18.spc\t MERC.SPC     m_ordz.spc    txt/\r\n",
      "DERt3_1.spc\t\t\t NMR_FID.SPC  m_xyxy.spc    txt2/\r\n",
      "DOERNER.spc\t\t\t NMR_SPC.SPC  ms.spc\t    txt3/\r\n",
      "Ft-ir.spc\t\t\t RAMAN.SPC    nir.spc\r\n",
      "HENE25.SPC\t\t\t RUBY18.SPC   plots2/\r\n",
      "HENE27.SPC\t\t\t TS01.SPC     plots3/\r\n"
     ]
    }
   ],
   "source": [
    "ls '../test_data/'"
   ]
  },
  {
   "cell_type": "code",
   "execution_count": 5,
   "metadata": {
    "collapsed": true
   },
   "outputs": [],
   "source": [
    "import logging\n",
    "logging.basicConfig(level=logging.INFO)"
   ]
  },
  {
   "cell_type": "code",
   "execution_count": 6,
   "metadata": {
    "scrolled": false
   },
   "outputs": [
    {
     "name": "stderr",
     "output_type": "stream",
     "text": [
      "DEBUG:root:Read raw data\n",
      "DEBUG:root:gx-y(2)\n"
     ]
    },
    {
     "data": {
      "text/plain": [
       "(0, 1000)"
      ]
     },
     "execution_count": 6,
     "metadata": {},
     "output_type": "execute_result"
    },
    {
     "data": {
      "image/png": "[encoded data removed]",
      "text/plain": [
       "<matplotlib.figure.Figure at 0x106bf8ef0>"
      ]
     },
     "metadata": {},
     "output_type": "display_data"
    }
   ],
   "source": [
    "%matplotlib inline\n",
    "import matplotlib.pyplot as plt\n",
    "import spc\n",
    "\n",
    "f = spc.File('../test_data/cts0416a.spc')\n",
    "plt.plot(f.x, f.sub[0].y)\n",
    "plt.xlim(0, 1000)"
   ]
  },
  {
   "cell_type": "code",
   "execution_count": 4,
   "metadata": {},
   "outputs": [
    {
     "data": {
      "text/plain": [
       "(0, 1000)"
      ]
     },
     "execution_count": 4,
     "metadata": {},
     "output_type": "execute_result"
    },
    {
     "data": {
      "image/png": "[encoded data removed]",
      "text/plain": [
       "<matplotlib.figure.Figure at 0x10dc646a0>"
      ]
     },
     "metadata": {},
     "output_type": "display_data"
    }
   ],
   "source": [
    "plt.plot(f.x, f.sub[0].y)\n",
    "plt.xlim(0, 1000)"
   ]
  },
  {
   "cell_type": "code",
   "execution_count": 4,
   "metadata": {},
   "outputs": [
    {
     "name": "stdout",
     "output_type": "stream",
     "text": [
      "\n",
      "DEBUG INFO\n",
      "Flags:\n",
      "\n",
      "----\n",
      "\n",
      "Version: unknown version\n",
      "Multiple subfiles: 2\n",
      "Single set of y-values\n"
     ]
    }
   ],
   "source": [
    "f.debug_info()a"
   ]
  },
  {
   "cell_type": "code",
   "execution_count": 5,
   "metadata": {},
   "outputs": [
    {
     "ename": "SyntaxError",
     "evalue": "Missing parentheses in call to 'print' (<ipython-input-5-d36a9dc81317>, line 1)",
     "output_type": "error",
     "traceback": [
      "\u001b[0;36m  File \u001b[0;32m\"<ipython-input-5-d36a9dc81317>\"\u001b[0;36m, line \u001b[0;32m1\u001b[0m\n\u001b[0;31m    print f.fexp\u001b[0m\n\u001b[0m          ^\u001b[0m\n\u001b[0;31mSyntaxError\u001b[0m\u001b[0;31m:\u001b[0m Missing parentheses in call to 'print'\n"
     ]
    }
   ],
   "source": [
    "print f.fexp\n",
    "print f.sub[0].subexp"
   ]
  },
  {
   "cell_type": "code",
   "execution_count": 10,
   "metadata": {},
   "outputs": [
    {
     "name": "stdout",
     "output_type": "stream",
     "text": [
      "------------\n",
      "4d_map.spc\n",
      "gx-y(121)\n",
      "Wavenumber (cm-1) Log(1/R) Micrometers (um)\n",
      "------------\n",
      "BC408_5mmHorizontal.spc\n",
      "x-y(1)\n",
      "Nanometers (nm) Counts Arbitrary\n",
      "------------\n",
      "CAthickyellow_try4_17_ZSCAN.spc\n",
      "x-y(31)\n",
      "Nanometers (nm) Counts Micrometers (um)\n",
      "------------\n",
      "CAthickyellow_try4_18.spc\n",
      "x-y(1)\n",
      "Nanometers (nm) Counts Arbitrary\n",
      "------------\n",
      "DERt3_1.spc\n",
      "x-y(1)\n",
      "Nanometers (nm) Counts Arbitrary\n",
      "------------\n",
      "DOERNER.spc\n",
      "gx-y(2)\n",
      "Raman Shift (cm-1) Arbitrary Intensity Arbitrary\n",
      "------------\n",
      "Ft-ir.spc\n",
      "gx-y(1)\n",
      "Wavenumber (cm-1) Transmission Arbitrary\n",
      "------------\n",
      "HENE25.SPC\n",
      "gx-y(1)\n",
      "Wavenumber (cm-1) (arb) Arbitrary\n",
      "------------\n",
      "HENE27.SPC\n",
      "gx-y(1)\n",
      "Wavenumber (cm-1) (arb) Arbitrary\n",
      "------------\n",
      "kry2.spc\n",
      "gx-y(1)\n",
      "Wavenumber (cm-1) (arb) Arbitrary\n",
      "------------\n",
      "KRY3.SPC\n",
      "gx-y(1)\n",
      "Wavenumber (cm-1) (arb) Arbitrary\n",
      "------------\n",
      "KRY4.SPC\n",
      "gx-y(1)\n",
      "Wavenumber (cm-1) (arb) Arbitrary\n",
      "------------\n",
      "KRY5.SPC\n",
      "gx-y(1)\n",
      "Wavenumber (cm-1) (arb) Arbitrary\n",
      "------------\n",
      "m_evenz.spc\n",
      "gx-y(32)\n",
      "Nanometers (nm) Absorbance Minutes\n",
      "------------\n",
      "m_ordz.spc\n",
      "gx-y(11)\n",
      "Wavenumber (cm-1) Absorbance Arbitrary\n",
      "------------\n",
      "m_xyxy.spc\n",
      "-xy(512)\n",
      "Mass (M/z) Abundance Minutes\n",
      "------------\n",
      "MERC.SPC\n",
      "gx-y(1)\n",
      "Wavenumber (cm-1) (arb) Arbitrary\n",
      "------------\n",
      "ms.spc\n",
      "-xy(1)\n",
      "Mass (M/z) Abundance Arbitrary\n",
      "------------\n",
      "nir.spc\n",
      "gx-y(20)\n",
      "Nanometers (nm) Kubelka-Munk Arbitrary\n",
      "------------\n",
      "NMR_FID.SPC\n",
      "gx-y(1)\n",
      "Seconds  Arbitrary Intensity Arbitrary\n",
      "------------\n",
      "NMR_SPC.SPC\n",
      "gx-y(1)\n",
      "Parts per million (PPM) Arbitrary Intensity Arbitrary\n",
      "------------\n",
      "RAMAN.SPC\n",
      "gx-y(1)\n",
      "Raman Shift (cm-1) Rmn Intensity Arbitrary\n",
      "------------\n",
      "RUBY18.SPC\n",
      "gx-y(1)\n",
      "Wavenumber (cm-1) (arb) Arbitrary\n",
      "------------\n",
      "s_evenx.spc\n",
      "gx-y(1)\n",
      "Wavenumber (cm-1) Absorbance Arbitrary\n",
      "------------\n",
      "s_xy.spc\n",
      "x-y(1)\n",
      "Minutes Arbitrary Intensity Arbitrary\n",
      "------------\n",
      "test_input.spc\n",
      "gx-y(1)\n",
      "Wavenumber (cm-1) Arbitrary Intensity Arbitrary\n",
      "------------\n",
      "TS01.SPC\n",
      "gx-y(1)\n",
      "Wavelength (nm) (arb) Arbitrary\n"
     ]
    }
   ],
   "source": [
    "from time import sleep\n",
    "pat = '../test_data/'\n",
    "for i in os.listdir(pat):\n",
    "    if i.lower().endswith('spc'):\n",
    "        print '------------'\n",
    "        print i\n",
    "        f = spc.File(pat+i)\n",
    "        print f.xlabel, f.ylabel, f.zlabel"
   ]
  },
  {
   "cell_type": "code",
   "execution_count": 11,
   "metadata": {},
   "outputs": [
    {
     "name": "stdout",
     "output_type": "stream",
     "text": [
      "\n",
      "DEBUG INFO\n",
      "Flags:\n",
      "\n",
      "use fcatxt axis not fxtype\n",
      "----\n",
      "\n",
      "Version: new LSB 1st\n",
      "Single file only\n",
      "Single set of y-values\n",
      "None\n"
     ]
    }
   ],
   "source": [
    "print f.debug_info()"
   ]
  },
  {
   "cell_type": "code",
   "execution_count": 12,
   "metadata": {},
   "outputs": [
    {
     "name": "stdout",
     "output_type": "stream",
     "text": [
      "dat_fmt: gx-y\n",
      "fexp: 21\n",
      "fytype: 0\n",
      "fcatxt: Wavelength (nm)\u0000(arb)\u0000\u0000\u0000\u0000\u0000\u0000\u0000\u0000\u0000\n",
      "fcmnt: slits 1500-inf-inf-1500, .1sec, 30mW\u0000yellow glass filter k250, 325nm excitation\u0000\u0000\u0000\u0000\u0000\u0000\u0000\u0000\u0000\u0000\u0000\u0000\u0000\u0000\u0000\u0000\u0000\u0000\u0000\u0000\u0000\u0000\u0000\u0000\u0000\u0000\u0000\u0000\u0000\u0000\u0000\u0000\u0000\u0000\u0000\u0000\u0000\u0000\u0000\u0000\u0000\u0000\u0000\u0000\u0000\u0000\u0000\u0000\u0000\u0000\u0000\n",
      "trandm: False\n",
      "fzinc: 0.0\n",
      "freserv: \u0000\u0000\u0000\u0000\u0000\u0000\u0000\u0000\u0000\u0000\u0000\u0000\u0000\u0000\u0000\u0000\u0000\u0000\u0000\u0000\u0000\u0000\u0000\u0000\u0000\u0000\u0000\u0000\u0000\u0000\u0000\u0000\u0000\u0000\u0000\u0000\u0000\u0000\u0000\u0000\u0000\u0000\u0000\u0000\u0000\u0000\u0000\u0000\u0000\u0000\u0000\u0000\u0000\u0000\u0000\u0000\u0000\u0000\u0000\u0000\u0000\u0000\u0000\u0000\u0000\u0000\u0000\u0000\u0000\u0000\u0000\u0000\u0000\u0000\u0000\u0000\u0000\u0000\u0000\u0000\u0000\u0000\u0000\u0000\u0000\u0000\u0000\u0000\u0000\u0000\u0000\u0000\u0000\u0000\u0000\u0000\u0000\u0000\u0000\u0000\u0000\u0000\u0000\u0000\u0000\u0000\u0000\u0000\u0000\u0000\u0000\u0000\u0000\u0000\u0000\u0000\u0000\u0000\u0000\u0000\u0000\u0000\u0000\u0000\u0000\u0000\u0000\u0000\u0000\u0000\u0000\u0000\u0000\u0000\u0000\u0000\u0000\u0000\u0000\u0000\u0000\u0000\u0000\u0000\u0000\u0000\u0000\u0000\u0000\u0000\u0000\u0000\u0000\u0000\u0000\u0000\u0000\u0000\u0000\u0000\u0000\u0000\u0000\u0000\u0000\u0000\u0000\u0000\u0000\u0000\u0000\u0000\u0000\u0000\u0000\u0000\u0000\u0000\u0000\u0000\u0000\u0000\u0000\u0000\u0000\u0000\u0000\n",
      "year: 2004\n",
      "cmnt: slits 1500-inf-inf-1500, .1sec, 30mW yellow glass filter k250, 325nm excitation\n",
      "fprocs: \u0000\n",
      "tsprec: False\n",
      "fmods: 0\n",
      "fmethod: \u0000\u0000\u0000\u0000\u0000\u0000\u0000\u0000\u0000\u0000\u0000\u0000\u0000\u0000\u0000\u0000\u0000\u0000\u0000\u0000\u0000\u0000\u0000\u0000\u0000\u0000\u0000\u0000\u0000\u0000\u0000\u0000\u0000\u0000\u0000\u0000\u0000\u0000\u0000\u0000\u0000\u0000\u0000\u0000\u0000\u0000\u0000\u0000\n",
      "fsource: \u0000\u0000\u0000\u0000\u0000\u0000\u0000\u0000\u0000\n",
      "fwtype: \u0000\n",
      "fwinc: 0.0\n",
      "flevel: \u0000\n",
      "fpost: \u0007\n",
      "fspare: \u0000\u0000\u0000\u0000\u0000\u0000\u0000\u0000\u0000\u0000\u0000\u0000\u0000\u0000\u0000\u0000\u0000\u0000\u0000\u0000\u0000\u0000\u0000\u0000\u0000\u0000\u0000\u0000\u0000\u0000\u0000\u0000\n",
      "logspar: \u0000\u0000\u0000\u0000\u0000\u0000\u0000\u0000\u0000\u0000\u0000\u0000\u0000\u0000\u0000\u0000\u0000\u0000\u0000\u0000\u0000\u0000\u0000\u0000\u0000\u0000\u0000\u0000\u0000\u0000\u0000\u0000\u0000\u0000\u0000\u0000\u0000\u0000\u0000\u0000\u0000\u0000\u0000\u0000\n",
      "ftflg:  \n",
      "tordrd: False\n",
      "logtxto: 64\n",
      "flast: 920.0\n",
      "flogoff: 1068\n",
      "fwplanes: 0\n",
      "exp_type: General SPC\n",
      "fpeakpt: 0\n",
      "spacing: 1.0\n",
      "zlabel: Arbitrary\n",
      "ylabel: (arb)\n",
      "fxtype: 0\n",
      "logsizm: 4096\n",
      "ffirst: 790.0\n",
      "fversn: K\n",
      "log_other: [' ', '[SCAN PARAM]', '\\x00\\x00\\xf0']\n",
      "tcgram: False\n",
      "log_dict: {'blank0': '', 'blank1': '', 'blank2': '', 'blank3': '', 'End': '.92000E3', 'acq3_units': '255', 'Position2': '.61000E3', 'Position3': '.00000E0', 'setup path': '', 'Position1': '.79000E3', 'Position4': '.00000E0', 'Start Time': '0', 'Signals': '1', 'Start': '.79000E3', 'Sample Window': '.00000E0', 'Integration Time': '.10000E0', 'SignalUnits0': '(arb)', 'Units': '0', 'power_supply3_units': '8', 'slit10': '.00000E0', 'Type': '29', 'Turret0': '1', 'G Factor': '.00000E0', 'Multi Mode': '0', 'High Voltage 3': '.95000E3', 'Num Flashes': '0', 'Delay after flash': '.00000E0', 'slit16': '.50000E1', 'slit15': '.50000E1', 'slit14': '.50000E1', 'slit13': '.50000E1', 'slit12': '.00000E0', 'slit11': '.00000E0', 'FKActive': '0', 'Multigroups': '0', 'correction3': '', 'correction2': '', 'Time Per Flash': '.00000E0', 'correction0': '', 'SignalBasis0': '1', 'Start Time Minute': '0', 'Increment': '.10000E1', 'experiment path': 'C:\\\\PROGRA~1\\\\SPECMAX\\\\dflt29.exp', 'slit_units': '14', 'dark': '0', 'acq4_units': '255', 'Signal0': 'S', 'acq2_units': '255', 'power_supply4_units': '0', 'power_supply1_units': '8', 'power_supply2_units': '8', 'High Voltage 1': '.95000E3', 'High Voltage 2': '.40000E3', 'Cycles': '1', 'High Voltage 4': '.00000E0', 'correction1': '', 'Comment': 'slits 1500-inf-inf-1500, .1sec, 30mW', 'Multi Delay': '0', 'time_units': '6', 'slit7': '.10000E1', 'slit6': '.10000E1', 'slit5': '.10000E1', 'slit4': '.10000E0', 'slit3': '.10000E0', 'slit2': '.00000E0', 'slit1': '.10000E0', 'acq1_units': '255', 'Start Time Hour': '0', 'wld_units': '1', 'slit9': '.00000E0', 'slit8': '.10000E1'}\n",
      "txvals: False\n",
      "fres: \u0000\u0000\u0000\u0000\u0000\u0000\u0000\u0000\u0000\n",
      "month: 11\n",
      "logdsks: 0\n",
      "day: 12\n",
      "minute: 20\n",
      "sub: [<spc.sub.subFile instance at 0x10469db90>]\n",
      "logbins: 0\n",
      "talabs: True\n",
      "fexper: 0\n",
      "tmulti: False\n",
      "hour: 14\n",
      "fnsub: 1\n",
      "pr_versn: new LSB 1st\n",
      "fsampin: 0\n",
      "logsizd: 1327\n",
      "ffactor: 0.0\n",
      "txyxys: False\n",
      "length: 2395\n",
      "xlabel: Wavelength (nm)\n",
      "fztype: 0\n",
      "fdate: 2102092692\n",
      "x: [ 790.  791.  792.  793.  794.  795.  796.  797.  798.  799.  800.  801.\n",
      "  802.  803.  804.  805.  806.  807.  808.  809.  810.  811.  812.  813.\n",
      "  814.  815.  816.  817.  818.  819.  820.  821.  822.  823.  824.  825.\n",
      "  826.  827.  828.  829.  830.  831.  832.  833.  834.  835.  836.  837.\n",
      "  838.  839.  840.  841.  842.  843.  844.  845.  846.  847.  848.  849.\n",
      "  850.  851.  852.  853.  854.  855.  856.  857.  858.  859.  860.  861.\n",
      "  862.  863.  864.  865.  866.  867.  868.  869.  870.  871.  872.  873.\n",
      "  874.  875.  876.  877.  878.  879.  880.  881.  882.  883.  884.  885.\n",
      "  886.  887.  888.  889.  890.  891.  892.  893.  894.  895.  896.  897.\n",
      "  898.  899.  900.  901.  902.  903.  904.  905.  906.  907.  908.  909.\n",
      "  910.  911.  912.  913.  914.  915.  916.  917.  918.  919.  920.]\n",
      "log_content: [' ', '[SCAN PARAM]', 'FKActive=0', 'Type=29', 'Units=0', 'Comment=slits 1500-inf-inf-1500, .1sec, 30mW', 'Start=.79000E3', 'End=.92000E3', 'Increment=.10000E1', 'Integration Time=.10000E0', 'Turret0=1', 'Cycles=1', 'Multi Mode=0', 'Multi Delay=0', 'Position1=.79000E3', 'Position2=.61000E3', 'Position3=.00000E0', 'Position4=.00000E0', 'Signals=1', 'Signal0=S', 'SignalUnits0=(arb)', 'SignalBasis0=1', 'slit1=.10000E0', 'slit2=.00000E0', 'slit3=.10000E0', 'slit4=.10000E0', 'slit5=.10000E1', 'slit6=.10000E1', 'slit7=.10000E1', 'slit8=.10000E1', 'slit9=.00000E0', 'slit10=.00000E0', 'slit11=.00000E0', 'slit12=.00000E0', 'slit13=.50000E1', 'slit14=.50000E1', 'slit15=.50000E1', 'slit16=.50000E1', 'Start Time=0', 'Start Time Hour=0', 'Start Time Minute=0', 'Sample Window=.00000E0', 'Delay after flash=.00000E0', 'Time Per Flash=.00000E0', 'Num Flashes=0', 'G Factor=.00000E0', 'experiment path=C:\\\\PROGRA~1\\\\SPECMAX\\\\dflt29.exp', 'setup path=', 'dark=0', 'correction0=', 'blank0=', 'correction1=', 'blank1=', 'correction2=', 'blank2=', 'correction3=', 'blank3=', 'High Voltage 1=.95000E3', 'High Voltage 2=.40000E3', 'High Voltage 3=.95000E3', 'High Voltage 4=.00000E0', 'wld_units=1', 'slit_units=14', 'time_units=6', 'power_supply1_units=8', 'power_supply2_units=8', 'power_supply3_units=8', 'power_supply4_units=0', 'acq1_units=255', 'acq2_units=255', 'acq3_units=255', 'acq4_units=255', 'Multigroups=0', '\\x00\\x00\\xf0']\n",
      "fnpts: 131\n"
     ]
    }
   ],
   "source": [
    "#f.write_file('testout3.txt')\n",
    "for key in f.__dict__:\n",
    "    print \"%s: %s\" %(key , f.__dict__[key])"
   ]
  },
  {
   "cell_type": "code",
   "execution_count": null,
   "metadata": {
    "collapsed": true
   },
   "outputs": [],
   "source": []
  }
 ],
 "metadata": {
  "kernelspec": {
   "display_name": "Python 3",
   "language": "python",
   "name": "python3"
  },
  "language_info": {
   "codemirror_mode": {
    "name": "ipython",
    "version": 3
   },
   "file_extension": ".py",
   "mimetype": "text/x-python",
   "name": "python",
   "nbconvert_exporter": "python",
   "pygments_lexer": "ipython3",
   "version": "3.5.2"
  }
 },
 "nbformat": 4,
 "nbformat_minor": 1
}
